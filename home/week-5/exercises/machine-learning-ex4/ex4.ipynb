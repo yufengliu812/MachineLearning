{
 "cells": [
  {
   "cell_type": "code",
   "execution_count": 1,
   "metadata": {},
   "outputs": [],
   "source": [
    "from scipy.io import loadmat\n",
    "\n",
    "filename = 'ex4/ex4data1.mat'\n",
    "\n",
    "data = loadmat(filename)\n",
    "X = data['X']\n",
    "y = data['y']"
   ]
  },
  {
   "cell_type": "code",
   "execution_count": 2,
   "metadata": {},
   "outputs": [],
   "source": [
    "import numpy as np\n",
    "import matplotlib.pyplot as plt\n",
    "\n",
    "X_shape = X.shape\n",
    "n = int(np.sqrt(X_shape[1]))\n",
    "X_reshaped = X.reshape(X_shape[0],n,n)\n",
    "X_flipped = np.swapaxes(X_reshaped, 1, 2)\n",
    "\n",
    "width_to_plot = 10\n",
    "number_to_plot = np.square(width_to_plot)\n",
    "\n",
    "selected_indices = np.random.choice(X_shape[0], number_to_plot, replace = False)\n",
    "selected_cases = X_flipped[selected_indices, :, :]\n",
    "\n",
    "Y = np.zeros((X_shape[0], 10))\n",
    "for i in range(X_shape[0]):\n",
    "    Y[i, int(y[i]%10)] = 1\n",
    "\n"
   ]
  },
  {
   "cell_type": "code",
   "execution_count": 3,
   "metadata": {},
   "outputs": [
    {
     "name": "stderr",
     "output_type": "stream",
     "text": [
      "c:\\Users\\yufengliu812\\anaconda3\\envs\\transformer\\lib\\site-packages\\tqdm\\auto.py:21: TqdmWarning: IProgress not found. Please update jupyter and ipywidgets. See https://ipywidgets.readthedocs.io/en/stable/user_install.html\n",
      "  from .autonotebook import tqdm as notebook_tqdm\n"
     ]
    }
   ],
   "source": [
    "import torch\n",
    "import torch.utils.data as torch_data\n",
    "from torch.utils.data import DataLoader\n",
    "\n",
    "X_tensor = torch.tensor(X).to(torch.float)\n",
    "Y_tensor = torch.tensor(Y).to(torch.float)\n",
    "\n",
    "r_train = 0.5\n",
    "train_size = int(r_train * len(X_tensor))\n",
    "test_size = len(X_tensor) - train_size\n",
    "\n",
    "train_dataset, test_dataset = torch_data.random_split(\n",
    "    dataset = torch_data.TensorDataset(X_tensor, Y_tensor), \n",
    "    lengths = [train_size, test_size]\n",
    ")\n",
    "\n",
    "batch_size = 2500\n",
    "train_loader = DataLoader(train_dataset, batch_size = batch_size, shuffle = True)\n",
    "test_loader = DataLoader(test_dataset, batch_size = batch_size)"
   ]
  },
  {
   "cell_type": "code",
   "execution_count": 4,
   "metadata": {},
   "outputs": [
    {
     "name": "stdout",
     "output_type": "stream",
     "text": [
      "Using device: cuda\n"
     ]
    },
    {
     "data": {
      "text/plain": [
       "Net(\n",
       "  (fc1): Linear(in_features=400, out_features=200, bias=True)\n",
       "  (fc2): Linear(in_features=200, out_features=100, bias=True)\n",
       "  (fc3): Linear(in_features=100, out_features=10, bias=True)\n",
       ")"
      ]
     },
     "execution_count": 4,
     "metadata": {},
     "output_type": "execute_result"
    }
   ],
   "source": [
    "from torch import nn\n",
    "import torch.nn.functional as F\n",
    "\n",
    "class Net(nn.Module):\n",
    "    def __init__(self):\n",
    "        super(Net, self).__init__()\n",
    "        self.fc1 = nn.Linear(400, 200)\n",
    "        self.fc2 = nn.Linear(200,100)\n",
    "        self.fc3 = nn.Linear(100,10)\n",
    "\n",
    "    def forward(self, x):\n",
    "        x = torch.sigmoid(self.fc1(x))\n",
    "        x = torch.sigmoid(self.fc2(x))\n",
    "        x = self.fc3(x)\n",
    "        return F.log_softmax(x, dim = 1)\n",
    "    \n",
    "device = torch.device(\"cuda\" if torch.cuda.is_available() else \"cpu\")\n",
    "#device = torch.device(\"cpu\")\n",
    "print(f\"Using device: {device}\")\n",
    "\n",
    "net = Net()\n",
    "net.to(device)"
   ]
  },
  {
   "cell_type": "code",
   "execution_count": 5,
   "metadata": {},
   "outputs": [
    {
     "name": "stdout",
     "output_type": "stream",
     "text": [
      "Epoch [1/10000], Loss: 2.3502\n",
      "Validation Accuracy: 9.68%\n",
      "Epoch [500/10000], Loss: 2.2611\n",
      "Validation Accuracy: 21.48%\n",
      "Epoch [1000/10000], Loss: 1.5583\n",
      "Validation Accuracy: 57.20%\n",
      "Epoch [1500/10000], Loss: 0.8427\n",
      "Validation Accuracy: 73.64%\n",
      "Epoch [2000/10000], Loss: 0.6368\n",
      "Validation Accuracy: 80.96%\n",
      "Epoch [2500/10000], Loss: 0.4873\n",
      "Validation Accuracy: 84.24%\n",
      "Epoch [3000/10000], Loss: 0.3996\n",
      "Validation Accuracy: 86.56%\n",
      "Epoch [3500/10000], Loss: 0.3478\n",
      "Validation Accuracy: 88.16%\n",
      "Epoch [4000/10000], Loss: 0.3121\n",
      "Validation Accuracy: 88.84%\n",
      "Epoch [4500/10000], Loss: 0.2846\n",
      "Validation Accuracy: 88.80%\n",
      "Epoch [5000/10000], Loss: 0.2620\n",
      "Validation Accuracy: 89.48%\n",
      "Epoch [5500/10000], Loss: 0.2425\n",
      "Validation Accuracy: 89.68%\n",
      "Epoch [6000/10000], Loss: 0.2251\n",
      "Validation Accuracy: 90.00%\n",
      "Epoch [6500/10000], Loss: 0.2093\n",
      "Validation Accuracy: 90.04%\n",
      "Epoch [7000/10000], Loss: 0.1948\n",
      "Validation Accuracy: 90.24%\n",
      "Epoch [7500/10000], Loss: 0.1814\n",
      "Validation Accuracy: 90.44%\n",
      "Epoch [8000/10000], Loss: 0.1689\n",
      "Validation Accuracy: 90.44%\n",
      "Epoch [8500/10000], Loss: 0.1573\n",
      "Validation Accuracy: 90.68%\n",
      "Epoch [9000/10000], Loss: 0.1464\n",
      "Validation Accuracy: 90.92%\n",
      "Epoch [9500/10000], Loss: 0.1363\n",
      "Validation Accuracy: 90.80%\n",
      "Epoch [10000/10000], Loss: 0.1268\n",
      "Validation Accuracy: 90.80%\n"
     ]
    }
   ],
   "source": [
    "import time \n",
    "\n",
    "criterion = nn.CrossEntropyLoss()\n",
    "optimizer = torch.optim.SGD(net.parameters(), lr = 0.01, momentum= 0.9)\n",
    "\n",
    "num_epochs = 10000\n",
    "\n",
    "for epoch in range(num_epochs):\n",
    "    net.train()\n",
    "    running_loss = 0.0\n",
    "    for inputs, labels in train_loader:\n",
    "\n",
    "        inputs, labels = inputs.to(device), labels.to(device)\n",
    "\n",
    "        optimizer.zero_grad()\n",
    "        outputs = net(inputs)\n",
    "\n",
    "        loss = criterion(outputs, labels)\n",
    "        loss.backward()\n",
    "        optimizer.step()\n",
    "        running_loss += loss.item()\n",
    "\n",
    "    if (epoch + 1)%500 ==0 or epoch ==0:\n",
    "        avg_training_loss = running_loss/len(train_loader)\n",
    "        print(f\"Epoch [{epoch+1}/{num_epochs}], Loss: {avg_training_loss:.4f}\")\n",
    "\n",
    "\n",
    "        net.eval()\n",
    "        correct = 0\n",
    "        total = 0\n",
    "\n",
    "        with torch.no_grad():\n",
    "            for inputs, labels in test_loader:\n",
    "                inputs, labels = inputs.to(device), labels.to(device)\n",
    "\n",
    "                outputs = net(inputs)\n",
    "                _, predicted = torch.max(outputs, 1)\n",
    "\n",
    "                labels = torch.argmax(labels, dim = 1)\n",
    "\n",
    "                total += labels.size(0)\n",
    "                correct += (predicted == labels).sum().item()\n",
    "\n",
    "        val_accuracy = 100 * correct / total\n",
    "        print(f\"Validation Accuracy: {val_accuracy:.2f}%\")\n",
    "\n",
    "\n",
    "\n",
    "\n",
    "\n"
   ]
  }
 ],
 "metadata": {
  "kernelspec": {
   "display_name": "transformer",
   "language": "python",
   "name": "python3"
  },
  "language_info": {
   "codemirror_mode": {
    "name": "ipython",
    "version": 3
   },
   "file_extension": ".py",
   "mimetype": "text/x-python",
   "name": "python",
   "nbconvert_exporter": "python",
   "pygments_lexer": "ipython3",
   "version": "3.10.10"
  }
 },
 "nbformat": 4,
 "nbformat_minor": 2
}
